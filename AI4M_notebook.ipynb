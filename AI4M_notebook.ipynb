{
 "cells": [
  {
   "cell_type": "code",
   "execution_count": 3,
   "id": "6450c3d3-25df-407f-bdb7-97b062369df5",
   "metadata": {},
   "outputs": [],
   "source": [
    "from AI4M_exam import *"
   ]
  },
  {
   "cell_type": "code",
   "execution_count": 5,
   "id": "de9a4ee2-8940-4836-b4e6-c42a082afbaf",
   "metadata": {},
   "outputs": [
    {
     "data": {
      "application/vnd.jupyter.widget-view+json": {
       "model_id": "b13e862ff26f41b684d6e20b79b1924c",
       "version_major": 2,
       "version_minor": 0
      },
      "text/plain": [
       "VBox(children=(VBox(children=(HBox(children=(Text(value='', description='邮箱:', layout=Layout(width='80%')), Bu…"
      ]
     },
     "metadata": {},
     "output_type": "display_data"
    }
   ],
   "source": [
    "app = ExamApp(qdict_file='202504_exam_json.pk')"
   ]
  },
  {
   "cell_type": "code",
   "execution_count": null,
   "id": "40e82a08-a4d2-4bf3-bb4e-269d7bbf1db1",
   "metadata": {},
   "outputs": [],
   "source": []
  }
 ],
 "metadata": {
  "kernelspec": {
   "display_name": "Python 3 (ipykernel)",
   "language": "python",
   "name": "python3"
  },
  "language_info": {
   "codemirror_mode": {
    "name": "ipython",
    "version": 3
   },
   "file_extension": ".py",
   "mimetype": "text/x-python",
   "name": "python",
   "nbconvert_exporter": "python",
   "pygments_lexer": "ipython3",
   "version": "3.11.4"
  }
 },
 "nbformat": 4,
 "nbformat_minor": 5
}
