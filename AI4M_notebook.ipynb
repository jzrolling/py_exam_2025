{
 "cells": [
  {
   "cell_type": "markdown",
   "id": "542562dc-a2be-4e7f-83c5-6d6711098c34",
   "metadata": {},
   "source": [
    "## 从AI4M_exam包中导入所有的程序模块"
   ]
  },
  {
   "cell_type": "code",
   "execution_count": 2,
   "id": "6450c3d3-25df-407f-bdb7-97b062369df5",
   "metadata": {},
   "outputs": [],
   "source": [
    "from AI4M_exam import *"
   ]
  },
  {
   "cell_type": "markdown",
   "id": "3b35e92b-3a5d-4eb5-ac8f-d3a77a3b0dc7",
   "metadata": {},
   "source": [
    "### 选中下方的命令行，点击上方的▶️按钮，或者按SHIFT+ENTER键运行ExamApp"
   ]
  },
  {
   "cell_type": "code",
   "execution_count": null,
   "id": "de9a4ee2-8940-4836-b4e6-c42a082afbaf",
   "metadata": {},
   "outputs": [],
   "source": [
    "# run ExamApp\n",
    "app = ExamApp(qdict_file='202504_exam_json.pk')"
   ]
  },
  {
   "cell_type": "code",
   "execution_count": null,
   "id": "40e82a08-a4d2-4bf3-bb4e-269d7bbf1db1",
   "metadata": {},
   "outputs": [],
   "source": []
  }
 ],
 "metadata": {
  "kernelspec": {
   "display_name": "Python 3 (ipykernel)",
   "language": "python",
   "name": "python3"
  },
  "language_info": {
   "codemirror_mode": {
    "name": "ipython",
    "version": 3
   },
   "file_extension": ".py",
   "mimetype": "text/x-python",
   "name": "python",
   "nbconvert_exporter": "python",
   "pygments_lexer": "ipython3",
   "version": "3.11.4"
  }
 },
 "nbformat": 4,
 "nbformat_minor": 5
}
